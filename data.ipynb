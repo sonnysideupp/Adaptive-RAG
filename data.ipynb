{
 "cells": [
  {
   "cell_type": "code",
   "execution_count": 67,
   "metadata": {},
   "outputs": [
    {
     "name": "stdout",
     "output_type": "stream",
     "text": [
      "length 143\n"
     ]
    }
   ],
   "source": [
    "# importing required modules\n",
    "import pdfplumber\n",
    "import os\n",
    "import re\n",
    "# creating a pdf reader object\n",
    "reader = pdfplumber.open('documents/lyft_10k.pdf')\n",
    "\n",
    "# printing number of pages in pdf file\n",
    "print('length', len(reader.pages))\n",
    "\n",
    "# getting a specific page from the pdf file\n",
    "doc = ''\n",
    "for page in reader.pages:\n",
    "    # extracting text from page\n",
    "    text = page.extract_text(layout=True)\n",
    "\n",
    "    # removing page numbers\n",
    "    text = re.sub('   [0-9]+   ', '', text)\n",
    "    doc += text.strip()\n"
   ]
  },
  {
   "cell_type": "code",
   "execution_count": 68,
   "metadata": {},
   "outputs": [
    {
     "name": "stdout",
     "output_type": "stream",
     "text": [
      "UNITED   STATES                                   \n",
      "                     SECURITIES  AND  EXCHANGE    COMMISSION                        \n",
      "                                                                                    \n",
      "                                    Washington, D.C. 20549                          \n",
      "                                    FORM    10-K                                    \n",
      "                                                                                    \n",
      "   (Mark One)                                                                       \n",
      "   ☒ ANNUAL REPORT PURSUANT TO SECTION 13 OR 15(d) OF THE SECURITIES EXCHANGE ACT OF 1934\n",
      "                               For the fiscal year ended December 31, 2023          \n",
      "                                         OR                                         \n",
      "   ☐ TRANSITION REPORT PURSUANT TO SECTION 13 OR 15(d) OF THE SECURITIES EXCHANGE ACT OF 1934 FOR THE\n",
      "     TRANSITION PERIOD FROM  TO                                              \n"
     ]
    }
   ],
   "source": [
    "print(doc[:1000])"
   ]
  },
  {
   "cell_type": "code",
   "execution_count": 69,
   "metadata": {},
   "outputs": [],
   "source": [
    "with open(\"documents/lyft_10k.txt\", \"w\") as text_file:\n",
    "    text_file.write(doc)"
   ]
  }
 ],
 "metadata": {
  "kernelspec": {
   "display_name": "Python 3",
   "language": "python",
   "name": "python3"
  },
  "language_info": {
   "codemirror_mode": {
    "name": "ipython",
    "version": 3
   },
   "file_extension": ".py",
   "mimetype": "text/x-python",
   "name": "python",
   "nbconvert_exporter": "python",
   "pygments_lexer": "ipython3",
   "version": "3.12.5"
  }
 },
 "nbformat": 4,
 "nbformat_minor": 2
}
